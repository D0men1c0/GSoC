{
 "cells": [
  {
   "cell_type": "markdown",
   "metadata": {},
   "source": [
    "# Library"
   ]
  },
  {
   "cell_type": "code",
   "execution_count": 1,
   "metadata": {},
   "outputs": [
    {
     "name": "stderr",
     "output_type": "stream",
     "text": [
      "[nltk_data] Downloading package punkt to\n",
      "[nltk_data]     C:\\Users\\dommy\\AppData\\Roaming\\nltk_data...\n",
      "[nltk_data]   Package punkt is already up-to-date!\n",
      "[nltk_data] Downloading package stopwords to\n",
      "[nltk_data]     C:\\Users\\dommy\\AppData\\Roaming\\nltk_data...\n",
      "[nltk_data]   Package stopwords is already up-to-date!\n",
      "[nltk_data] Downloading package wordnet to\n",
      "[nltk_data]     C:\\Users\\dommy\\AppData\\Roaming\\nltk_data...\n",
      "[nltk_data]   Package wordnet is already up-to-date!\n"
     ]
    }
   ],
   "source": [
    "import pandas as pd\n",
    "import PreProcessingText as ppt"
   ]
  },
  {
   "cell_type": "markdown",
   "metadata": {},
   "source": [
    "# Read csv"
   ]
  },
  {
   "cell_type": "code",
   "execution_count": 2,
   "metadata": {},
   "outputs": [
    {
     "name": "stdout",
     "output_type": "stream",
     "text": [
      "(292783, 12)\n"
     ]
    },
    {
     "data": {
      "text/html": [
       "<div>\n",
       "<style scoped>\n",
       "    .dataframe tbody tr th:only-of-type {\n",
       "        vertical-align: middle;\n",
       "    }\n",
       "\n",
       "    .dataframe tbody tr th {\n",
       "        vertical-align: top;\n",
       "    }\n",
       "\n",
       "    .dataframe thead th {\n",
       "        text-align: right;\n",
       "    }\n",
       "</style>\n",
       "<table border=\"1\" class=\"dataframe\">\n",
       "  <thead>\n",
       "    <tr style=\"text-align: right;\">\n",
       "      <th></th>\n",
       "      <th>name_board</th>\n",
       "      <th>creator_thread</th>\n",
       "      <th>creator_id_thread</th>\n",
       "      <th>name_thread</th>\n",
       "      <th>created_on</th>\n",
       "      <th>registration_date</th>\n",
       "      <th>total_posts</th>\n",
       "      <th>reputation</th>\n",
       "      <th>creator_post</th>\n",
       "      <th>creator_id_post</th>\n",
       "      <th>content</th>\n",
       "      <th>created_on_post</th>\n",
       "    </tr>\n",
       "  </thead>\n",
       "  <tbody>\n",
       "    <tr>\n",
       "      <th>0</th>\n",
       "      <td>Tor</td>\n",
       "      <td>blonger</td>\n",
       "      <td>32544</td>\n",
       "      <td>Tor shrinked of about 13,5% but you can contri...</td>\n",
       "      <td>2020-01-09</td>\n",
       "      <td>1900-01-01 00:00:00</td>\n",
       "      <td>0.0</td>\n",
       "      <td>0.0</td>\n",
       "      <td>[deleted]</td>\n",
       "      <td>37</td>\n",
       "      <td>[removed]</td>\n",
       "      <td>2019-10-16</td>\n",
       "    </tr>\n",
       "    <tr>\n",
       "      <th>1</th>\n",
       "      <td>Tor</td>\n",
       "      <td>blonger</td>\n",
       "      <td>32544</td>\n",
       "      <td>Tor shrinked of about 13,5% but you can contri...</td>\n",
       "      <td>2020-01-09</td>\n",
       "      <td>1900-01-01 00:00:00</td>\n",
       "      <td>0.0</td>\n",
       "      <td>0.0</td>\n",
       "      <td>blonger</td>\n",
       "      <td>32544</td>\n",
       "      <td>The Torproject recently ***LINK***announced[ht...</td>\n",
       "      <td>2019-10-30</td>\n",
       "    </tr>\n",
       "    <tr>\n",
       "      <th>2</th>\n",
       "      <td>Tor</td>\n",
       "      <td>Xanitforthecash</td>\n",
       "      <td>2467</td>\n",
       "      <td>should I run a tor node</td>\n",
       "      <td>2020-01-09</td>\n",
       "      <td>2018-03-21 00:00:00</td>\n",
       "      <td>88.0</td>\n",
       "      <td>9.0</td>\n",
       "      <td>rswz</td>\n",
       "      <td>32661</td>\n",
       "      <td>***LINK***http://ea5faa5po25cf7fb.onion/projec...</td>\n",
       "      <td>2019-10-16</td>\n",
       "    </tr>\n",
       "    <tr>\n",
       "      <th>3</th>\n",
       "      <td>Tor</td>\n",
       "      <td>Xanitforthecash</td>\n",
       "      <td>2467</td>\n",
       "      <td>should I run a tor node</td>\n",
       "      <td>2020-01-09</td>\n",
       "      <td>2018-03-21 00:00:00</td>\n",
       "      <td>88.0</td>\n",
       "      <td>9.0</td>\n",
       "      <td>ChemistWeb</td>\n",
       "      <td>33150</td>\n",
       "      <td>if someone will do something bad from that ip ...</td>\n",
       "      <td>2019-10-16</td>\n",
       "    </tr>\n",
       "    <tr>\n",
       "      <th>4</th>\n",
       "      <td>Tor</td>\n",
       "      <td>Xanitforthecash</td>\n",
       "      <td>2467</td>\n",
       "      <td>should I run a tor node</td>\n",
       "      <td>2020-01-09</td>\n",
       "      <td>2018-03-21 00:00:00</td>\n",
       "      <td>88.0</td>\n",
       "      <td>9.0</td>\n",
       "      <td>Xanitforthecash</td>\n",
       "      <td>2467</td>\n",
       "      <td>I already leave tor open for a good amount of ...</td>\n",
       "      <td>2019-10-16</td>\n",
       "    </tr>\n",
       "  </tbody>\n",
       "</table>\n",
       "</div>"
      ],
      "text/plain": [
       "  name_board   creator_thread  creator_id_thread  \\\n",
       "0        Tor          blonger              32544   \n",
       "1        Tor          blonger              32544   \n",
       "2        Tor  Xanitforthecash               2467   \n",
       "3        Tor  Xanitforthecash               2467   \n",
       "4        Tor  Xanitforthecash               2467   \n",
       "\n",
       "                                         name_thread  created_on  \\\n",
       "0  Tor shrinked of about 13,5% but you can contri...  2020-01-09   \n",
       "1  Tor shrinked of about 13,5% but you can contri...  2020-01-09   \n",
       "2                            should I run a tor node  2020-01-09   \n",
       "3                            should I run a tor node  2020-01-09   \n",
       "4                            should I run a tor node  2020-01-09   \n",
       "\n",
       "     registration_date  total_posts  reputation     creator_post  \\\n",
       "0  1900-01-01 00:00:00          0.0         0.0        [deleted]   \n",
       "1  1900-01-01 00:00:00          0.0         0.0          blonger   \n",
       "2  2018-03-21 00:00:00         88.0         9.0             rswz   \n",
       "3  2018-03-21 00:00:00         88.0         9.0       ChemistWeb   \n",
       "4  2018-03-21 00:00:00         88.0         9.0  Xanitforthecash   \n",
       "\n",
       "   creator_id_post                                            content  \\\n",
       "0               37                                          [removed]   \n",
       "1            32544  The Torproject recently ***LINK***announced[ht...   \n",
       "2            32661  ***LINK***http://ea5faa5po25cf7fb.onion/projec...   \n",
       "3            33150  if someone will do something bad from that ip ...   \n",
       "4             2467  I already leave tor open for a good amount of ...   \n",
       "\n",
       "  created_on_post  \n",
       "0      2019-10-16  \n",
       "1      2019-10-30  \n",
       "2      2019-10-16  \n",
       "3      2019-10-16  \n",
       "4      2019-10-16  "
      ]
     },
     "execution_count": 2,
     "metadata": {},
     "output_type": "execute_result"
    }
   ],
   "source": [
    "df = pd.read_csv('merged_data.csv')\n",
    "print(df.shape)\n",
    "df.head()"
   ]
  },
  {
   "cell_type": "code",
   "execution_count": 3,
   "metadata": {},
   "outputs": [
    {
     "name": "stdout",
     "output_type": "stream",
     "text": [
      "<class 'pandas.core.frame.DataFrame'>\n",
      "RangeIndex: 292783 entries, 0 to 292782\n",
      "Data columns (total 12 columns):\n",
      " #   Column             Non-Null Count   Dtype  \n",
      "---  ------             --------------   -----  \n",
      " 0   name_board         292783 non-null  object \n",
      " 1   creator_thread     291854 non-null  object \n",
      " 2   creator_id_thread  292783 non-null  int64  \n",
      " 3   name_thread        292783 non-null  object \n",
      " 4   created_on         292783 non-null  object \n",
      " 5   registration_date  283901 non-null  object \n",
      " 6   total_posts        283901 non-null  float64\n",
      " 7   reputation         283901 non-null  float64\n",
      " 8   creator_post       292783 non-null  object \n",
      " 9   creator_id_post    292783 non-null  int64  \n",
      " 10  content            292783 non-null  object \n",
      " 11  created_on_post    292783 non-null  object \n",
      "dtypes: float64(2), int64(2), object(8)\n",
      "memory usage: 26.8+ MB\n"
     ]
    }
   ],
   "source": [
    "df.info()"
   ]
  },
  {
   "cell_type": "code",
   "execution_count": 4,
   "metadata": {},
   "outputs": [
    {
     "data": {
      "text/html": [
       "<div>\n",
       "<style scoped>\n",
       "    .dataframe tbody tr th:only-of-type {\n",
       "        vertical-align: middle;\n",
       "    }\n",
       "\n",
       "    .dataframe tbody tr th {\n",
       "        vertical-align: top;\n",
       "    }\n",
       "\n",
       "    .dataframe thead th {\n",
       "        text-align: right;\n",
       "    }\n",
       "</style>\n",
       "<table border=\"1\" class=\"dataframe\">\n",
       "  <thead>\n",
       "    <tr style=\"text-align: right;\">\n",
       "      <th></th>\n",
       "      <th>creator_id_thread</th>\n",
       "      <th>total_posts</th>\n",
       "      <th>reputation</th>\n",
       "      <th>creator_id_post</th>\n",
       "    </tr>\n",
       "  </thead>\n",
       "  <tbody>\n",
       "    <tr>\n",
       "      <th>count</th>\n",
       "      <td>292783.000000</td>\n",
       "      <td>283901.000000</td>\n",
       "      <td>283901.000000</td>\n",
       "      <td>292783.000000</td>\n",
       "    </tr>\n",
       "    <tr>\n",
       "      <th>mean</th>\n",
       "      <td>10955.409143</td>\n",
       "      <td>256.476825</td>\n",
       "      <td>110.806869</td>\n",
       "      <td>13859.933620</td>\n",
       "    </tr>\n",
       "    <tr>\n",
       "      <th>std</th>\n",
       "      <td>11966.111899</td>\n",
       "      <td>985.677180</td>\n",
       "      <td>520.127893</td>\n",
       "      <td>13231.876301</td>\n",
       "    </tr>\n",
       "    <tr>\n",
       "      <th>min</th>\n",
       "      <td>-1.000000</td>\n",
       "      <td>0.000000</td>\n",
       "      <td>-1313.000000</td>\n",
       "      <td>1.000000</td>\n",
       "    </tr>\n",
       "    <tr>\n",
       "      <th>25%</th>\n",
       "      <td>1759.000000</td>\n",
       "      <td>4.000000</td>\n",
       "      <td>0.000000</td>\n",
       "      <td>2370.000000</td>\n",
       "    </tr>\n",
       "    <tr>\n",
       "      <th>50%</th>\n",
       "      <td>6686.000000</td>\n",
       "      <td>25.000000</td>\n",
       "      <td>3.000000</td>\n",
       "      <td>9080.000000</td>\n",
       "    </tr>\n",
       "    <tr>\n",
       "      <th>75%</th>\n",
       "      <td>15491.000000</td>\n",
       "      <td>118.000000</td>\n",
       "      <td>23.000000</td>\n",
       "      <td>22793.000000</td>\n",
       "    </tr>\n",
       "    <tr>\n",
       "      <th>max</th>\n",
       "      <td>47346.000000</td>\n",
       "      <td>10406.000000</td>\n",
       "      <td>4790.000000</td>\n",
       "      <td>47532.000000</td>\n",
       "    </tr>\n",
       "  </tbody>\n",
       "</table>\n",
       "</div>"
      ],
      "text/plain": [
       "       creator_id_thread    total_posts     reputation  creator_id_post\n",
       "count      292783.000000  283901.000000  283901.000000    292783.000000\n",
       "mean        10955.409143     256.476825     110.806869     13859.933620\n",
       "std         11966.111899     985.677180     520.127893     13231.876301\n",
       "min            -1.000000       0.000000   -1313.000000         1.000000\n",
       "25%          1759.000000       4.000000       0.000000      2370.000000\n",
       "50%          6686.000000      25.000000       3.000000      9080.000000\n",
       "75%         15491.000000     118.000000      23.000000     22793.000000\n",
       "max         47346.000000   10406.000000    4790.000000     47532.000000"
      ]
     },
     "execution_count": 4,
     "metadata": {},
     "output_type": "execute_result"
    }
   ],
   "source": [
    "df.describe()"
   ]
  },
  {
   "cell_type": "code",
   "execution_count": 5,
   "metadata": {},
   "outputs": [
    {
     "data": {
      "text/html": [
       "<div>\n",
       "<style scoped>\n",
       "    .dataframe tbody tr th:only-of-type {\n",
       "        vertical-align: middle;\n",
       "    }\n",
       "\n",
       "    .dataframe tbody tr th {\n",
       "        vertical-align: top;\n",
       "    }\n",
       "\n",
       "    .dataframe thead th {\n",
       "        text-align: right;\n",
       "    }\n",
       "</style>\n",
       "<table border=\"1\" class=\"dataframe\">\n",
       "  <thead>\n",
       "    <tr style=\"text-align: right;\">\n",
       "      <th></th>\n",
       "      <th>name_board</th>\n",
       "      <th>creator_thread</th>\n",
       "      <th>name_thread</th>\n",
       "      <th>created_on</th>\n",
       "      <th>registration_date</th>\n",
       "      <th>creator_post</th>\n",
       "      <th>content</th>\n",
       "      <th>created_on_post</th>\n",
       "    </tr>\n",
       "  </thead>\n",
       "  <tbody>\n",
       "    <tr>\n",
       "      <th>count</th>\n",
       "      <td>292783</td>\n",
       "      <td>291854</td>\n",
       "      <td>292783</td>\n",
       "      <td>292783</td>\n",
       "      <td>283901</td>\n",
       "      <td>292783</td>\n",
       "      <td>292783</td>\n",
       "      <td>292783</td>\n",
       "    </tr>\n",
       "    <tr>\n",
       "      <th>unique</th>\n",
       "      <td>382</td>\n",
       "      <td>23805</td>\n",
       "      <td>68931</td>\n",
       "      <td>25</td>\n",
       "      <td>577</td>\n",
       "      <td>42682</td>\n",
       "      <td>270239</td>\n",
       "      <td>629</td>\n",
       "    </tr>\n",
       "    <tr>\n",
       "      <th>top</th>\n",
       "      <td>DarkNetMarkets</td>\n",
       "      <td>[deleted]</td>\n",
       "      <td>#FREE GIVE AWAY: 1000X XTC PILLS worth 950 EUR...</td>\n",
       "      <td>2020-01-08</td>\n",
       "      <td>1900-01-01 00:00:00</td>\n",
       "      <td>[deleted]</td>\n",
       "      <td>[removed]</td>\n",
       "      <td>2019-08-08</td>\n",
       "    </tr>\n",
       "    <tr>\n",
       "      <th>freq</th>\n",
       "      <td>49716</td>\n",
       "      <td>3919</td>\n",
       "      <td>342</td>\n",
       "      <td>101604</td>\n",
       "      <td>40879</td>\n",
       "      <td>4499</td>\n",
       "      <td>13198</td>\n",
       "      <td>26736</td>\n",
       "    </tr>\n",
       "  </tbody>\n",
       "</table>\n",
       "</div>"
      ],
      "text/plain": [
       "            name_board creator_thread  \\\n",
       "count           292783         291854   \n",
       "unique             382          23805   \n",
       "top     DarkNetMarkets      [deleted]   \n",
       "freq             49716           3919   \n",
       "\n",
       "                                              name_thread  created_on  \\\n",
       "count                                              292783      292783   \n",
       "unique                                              68931          25   \n",
       "top     #FREE GIVE AWAY: 1000X XTC PILLS worth 950 EUR...  2020-01-08   \n",
       "freq                                                  342      101604   \n",
       "\n",
       "          registration_date creator_post    content created_on_post  \n",
       "count                283901       292783     292783          292783  \n",
       "unique                  577        42682     270239             629  \n",
       "top     1900-01-01 00:00:00    [deleted]  [removed]      2019-08-08  \n",
       "freq                  40879         4499      13198           26736  "
      ]
     },
     "execution_count": 5,
     "metadata": {},
     "output_type": "execute_result"
    }
   ],
   "source": [
    "df.describe(include='object')"
   ]
  },
  {
   "cell_type": "code",
   "execution_count": 6,
   "metadata": {},
   "outputs": [
    {
     "data": {
      "text/plain": [
       "name_board              0\n",
       "creator_thread        929\n",
       "creator_id_thread       0\n",
       "name_thread             0\n",
       "created_on              0\n",
       "registration_date    8882\n",
       "total_posts          8882\n",
       "reputation           8882\n",
       "creator_post            0\n",
       "creator_id_post         0\n",
       "content                 0\n",
       "created_on_post         0\n",
       "dtype: int64"
      ]
     },
     "execution_count": 6,
     "metadata": {},
     "output_type": "execute_result"
    }
   ],
   "source": [
    "df.isnull().sum()"
   ]
  },
  {
   "cell_type": "markdown",
   "metadata": {},
   "source": [
    "# Analyze name_thread"
   ]
  },
  {
   "cell_type": "code",
   "execution_count": 7,
   "metadata": {},
   "outputs": [
    {
     "data": {
      "text/plain": [
       "name_thread\n",
       "#FREE GIVE AWAY: 1000X XTC PILLS worth 950 EURO GUESS NUMBER BITWEEN 1 AND 500                         342\n",
       "Obtain Vendor Badge                                                                                    291\n",
       "Giving away free 125g Gorilla Glue worth 725-1400 euros (IMPORTANT UPDATE!)                            270\n",
       "COCAINE GIVE AWAY WE ARE GIVING AWAY 30G COLOMBIAN COCAINE COMMENT TO ENTER! ENDS 16/09/2019 1PM by    223\n",
       "GIVEAWAY - 14G MORROCCAN HASHISH                                                                       222\n",
       "                                                                                                      ... \n",
       "/d/ketamine is now live!                                                                                 1\n",
       "Is there a way to view cancelled or refunded or orders after dispute?                                    1\n",
       "AXS MARKET                                                                                               1\n",
       "[ROLEX]Buy and get 50% more! Now with free shipping. Exclusively on White House Market.[PL-EU]           1\n",
       "How many vendors use the Wickr Me secure messaging app?                                                  1\n",
       "Name: count, Length: 68931, dtype: int64"
      ]
     },
     "execution_count": 7,
     "metadata": {},
     "output_type": "execute_result"
    }
   ],
   "source": [
    "df['name_thread'].value_counts()"
   ]
  },
  {
   "cell_type": "code",
   "execution_count": null,
   "metadata": {},
   "outputs": [],
   "source": []
  }
 ],
 "metadata": {
  "kernelspec": {
   "display_name": "gestione",
   "language": "python",
   "name": "python3"
  },
  "language_info": {
   "codemirror_mode": {
    "name": "ipython",
    "version": 3
   },
   "file_extension": ".py",
   "mimetype": "text/x-python",
   "name": "python",
   "nbconvert_exporter": "python",
   "pygments_lexer": "ipython3",
   "version": "3.12.2"
  }
 },
 "nbformat": 4,
 "nbformat_minor": 2
}
